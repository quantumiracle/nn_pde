{
 "cells": [
  {
   "cell_type": "code",
   "execution_count": 3,
   "metadata": {},
   "outputs": [],
   "source": [
    "import torch\n",
    "import numpy as np\n",
    "import matplotlib.pyplot as plt\n",
    "import os\n",
    "from pandas import *\n",
    "from itertools import groupby\n",
    "np.random.seed(1234)\n"
   ]
  },
  {
   "cell_type": "code",
   "execution_count": 1,
   "metadata": {},
   "outputs": [
    {
     "name": "stdout",
     "output_type": "stream",
     "text": [
      "(100, 100) (100, 100)\n"
     ]
    },
    {
     "name": "stderr",
     "output_type": "stream",
     "text": [
      "/home/quantumiracle/anaconda3/envs/x/lib/python3.7/site-packages/ipykernel_launcher.py:19: MatplotlibDeprecationWarning: shading='flat' when X and Y have the same dimensions as C is deprecated since 3.3.  Either specify the corners of the quadrilaterals with X and Y, or pass shading='auto', 'nearest' or 'gouraud', or set rcParams['pcolor.shading'].  This will become an error two minor releases later.\n"
     ]
    },
    {
     "data": {
      "image/png": "[encoded data removed]",
      "text/plain": [
       "<Figure size 432x288 with 2 Axes>"
      ]
     },
     "metadata": {
      "needs_background": "light"
     },
     "output_type": "display_data"
    }
   ],
   "source": [
    "import numpy as np\n",
    "import matplotlib.pyplot as plt\n",
    "from numpy import ma\n",
    "from matplotlib import ticker, cm\n",
    "\n",
    "num_points = 100\n",
    "nu = 0.02\n",
    "x_low, x_high = 0, 1\n",
    "t_low, t_high = 0, 1\n",
    "x = np.arange(x_low, x_high, (x_high-x_low)/num_points)\n",
    "t = np.arange(t_low, t_high, (t_high-t_low)/num_points)\n",
    "\n",
    "X, T = np.meshgrid(x, t)\n",
    "print(X.shape, T.shape)\n",
    "solution = lambda  x, t: np.exp(-4 * np.pi**2 * t * nu)*np.sin(2*np.pi*x)\n",
    "Z = solution(X, T)\n",
    "\n",
    "# print(Z)\n",
    "cs = plt.pcolor(T, X, Z)\n",
    "cbar = plt.colorbar(cs)\n",
    "plt.ylabel('x')\n",
    "plt.xlabel('t')\n",
    "plt.title('heat function solution visualization')\n",
    "plt.savefig('figures/heat_sol.png', dpi=300)\n",
    "plt.show()"
   ]
  },
  {
   "cell_type": "code",
   "execution_count": 22,
   "metadata": {},
   "outputs": [
    {
     "name": "stdout",
     "output_type": "stream",
     "text": [
      "(1000000, 2) (1000000,)\n",
      "(100000, 2) (100000,)\n",
      "(100000, 2) (100000,)\n"
     ]
    }
   ],
   "source": [
    "def generate_data(N_e=1e2, N_d=1e2, N_t=1e2, path=''):\n",
    "    # collocation points\n",
    "    x_low, x_high = 0, 1\n",
    "    t_low, t_high = 0, 1\n",
    "    num_points = int(np.sqrt(N_e))\n",
    "    x = np.arange(x_low, x_high, (x_high-x_low)/num_points)\n",
    "    t = np.arange(t_low, t_high, (t_high-t_low)/num_points)\n",
    "    X, T = np.meshgrid(x, t)\n",
    "    collc_z = solution(X, T).reshape(-1)\n",
    "    collc_x = X.reshape(X.shape[0]*X.shape[1], 1)\n",
    "    collc_t = T.reshape(T.shape[0]*T.shape[1], 1)\n",
    "    collc_xt = np.concatenate((collc_x, collc_t), axis=-1)\n",
    "    print(collc_xt.shape, collc_z.shape)\n",
    "\n",
    "    def generate_random(N_d):\n",
    "        data_xt = []\n",
    "        rand_x = np.random.uniform(x_low, x_high, int(N_d))\n",
    "        rand_t = np.random.uniform(t_low, t_high, int(N_d))\n",
    "\n",
    "        data_z = solution(rand_x, rand_t) \n",
    "        rand_x = rand_x.reshape(rand_x.shape[0], 1)\n",
    "        rand_t = rand_t.reshape(rand_t.shape[0], 1)\n",
    "        data_xt = np.concatenate((rand_x, rand_t), axis=-1)\n",
    "        print(data_xt.shape, data_z.shape)\n",
    "        return data_xt, data_z\n",
    "\n",
    "    # data points\n",
    "    data_xt, data_z = generate_random(N_d)\n",
    "\n",
    "    # test points\n",
    "    test_xt, test_z = generate_random(N_t)\n",
    "\n",
    "    data_dict = {'collc_points': {'xt': collc_xt, 'z': collc_z},\n",
    "                'data_points': {'xt': data_xt, 'z': data_z},\n",
    "                'test_points': {'xt': test_xt, 'z': test_z},\n",
    "                }\n",
    "\n",
    "    np.save(path, data_dict)\n",
    "\n",
    "generate_data(N_e=1e6, N_d=1e5, N_t=1e5, path='data/heat_equation_data.npy')"
   ]
  },
  {
   "cell_type": "code",
   "execution_count": 24,
   "metadata": {},
   "outputs": [
    {
     "name": "stdout",
     "output_type": "stream",
     "text": [
      "dict_keys(['collc_points', 'data_points', 'test_points'])\n"
     ]
    }
   ],
   "source": [
    "data = np.load('data/heat_equation_data.npy', allow_pickle=True)\n",
    "data = data.item()\n",
    "print(data.keys())"
   ]
  },
  {
   "cell_type": "code",
   "execution_count": null,
   "metadata": {},
   "outputs": [],
   "source": []
  }
 ],
 "metadata": {
  "interpreter": {
   "hash": "28c6861e59928cb790236f7047915368f37afc12f670e78fd0101a6f825a02b1"
  },
  "kernelspec": {
   "display_name": "Python 3.7.0 64-bit ('x': conda)",
   "name": "python3"
  },
  "language_info": {
   "codemirror_mode": {
    "name": "ipython",
    "version": 3
   },
   "file_extension": ".py",
   "mimetype": "text/x-python",
   "name": "python",
   "nbconvert_exporter": "python",
   "pygments_lexer": "ipython3",
   "version": "3.7.0"
  }
 },
 "nbformat": 4,
 "nbformat_minor": 2
}
