{
 "cells": [
  {
   "cell_type": "code",
   "execution_count": 3,
   "metadata": {},
   "outputs": [],
   "source": [
    "import torch\n",
    "import numpy as np\n",
    "import matplotlib.pyplot as plt\n",
    "import scipy.io\n",
    "from scipy.interpolate import griddata\n",
    "import time\n",
    "from itertools import product, combinations\n",
    "from mpl_toolkits.mplot3d import Axes3D\n",
    "from mpl_toolkits.mplot3d.art3d import Poly3DCollection\n",
    "from plotting import newfig, savefig\n",
    "from mpl_toolkits.axes_grid1 import make_axes_locatable\n",
    "import matplotlib.gridspec as gridspec\n",
    "from matplotlib import rc\n",
    "\n",
    "np.random.seed(1234)\n"
   ]
  },
  {
   "cell_type": "code",
   "execution_count": 4,
   "metadata": {},
   "outputs": [],
   "source": [
    "def plot_solution(X_star, u_star, index):\n",
    "    \n",
    "    lb = X_star.min(0)\n",
    "    ub = X_star.max(0)\n",
    "    nn = 200\n",
    "    x = np.linspace(lb[0], ub[0], nn)\n",
    "    y = np.linspace(lb[1], ub[1], nn)\n",
    "    X, Y = np.meshgrid(x,y)\n",
    "    \n",
    "    U_star = griddata(X_star, u_star.flatten(), (X, Y), method='cubic')\n",
    "    \n",
    "    plt.figure(index)\n",
    "    plt.pcolor(X,Y,U_star, cmap = 'jet')\n",
    "    plt.colorbar()\n",
    "    \n",
    "    \n",
    "def axisEqual3D(ax):\n",
    "    extents = np.array([getattr(ax, 'get_{}lim'.format(dim))() for dim in 'xyz'])\n",
    "    sz = extents[:,1] - extents[:,0]\n",
    "    centers = np.mean(extents, axis=1)\n",
    "    maxsize = max(abs(sz))\n",
    "    r = maxsize/4\n",
    "    for ctr, dim in zip(centers, 'xyz'):\n",
    "        getattr(ax, 'set_{}lim'.format(dim))(ctr - r, ctr + r)"
   ]
  },
  {
   "cell_type": "code",
   "execution_count": 5,
   "metadata": {},
   "outputs": [],
   "source": [
    "def load_model(model, path, device):\n",
    "    model.load_state_dict(torch.load(path, map_location=device))\n"
   ]
  },
  {
   "cell_type": "code",
   "execution_count": 21,
   "metadata": {},
   "outputs": [
    {
     "name": "stdout",
     "output_type": "stream",
     "text": [
      "(1000,)\n",
      "0.07649499 0.040392213617623955 1.8938053879263268\n"
     ]
    }
   ],
   "source": [
    "from train_heat import PhysicsInformedNN, load_data\n",
    "device = 'cpu'\n",
    "layers = 8\n",
    "nIter = 50000  # original niter is 200000\n",
    "lr = 0.001\n",
    "batch = 10000\n",
    "hidden_dim = 512\n",
    "N_train = 1000 #5000\n",
    "N_test = 1000\n",
    "optim_method = \"adam\"       \n",
    "\n",
    "collc_xt, collc_z, data_xt, data_z, test_xt, test_z = load_data(device)\n",
    "data_xt = data_xt[:N_train]\n",
    "data_z = data_z[:N_train]\n",
    "test_xt = test_xt[:N_test]\n",
    "test_z = test_z[:N_test]\n",
    "\n",
    "pinn = PhysicsInformedNN(data_xt, data_z, layers, device, optim_method, hidden_dim, lr).to(device) \n",
    "path = './model/20220501_1330'\n",
    "load_model(pinn, path, device)\n",
    "\n",
    "\n",
    "u, f_u = pinn.forward(data_xt)\n",
    "f_u = f_u.detach().cpu().numpy()\n",
    "print(f_u.shape)\n",
    "n_inf = max(np.abs(f_u))\n",
    "n_2 = 1./np.sqrt(N_train)*np.linalg.norm(f_u, ord=2)\n",
    "\n",
    "print(n_inf, n_2, n_inf/n_2)\n"
   ]
  },
  {
   "cell_type": "code",
   "execution_count": 17,
   "metadata": {},
   "outputs": [
    {
     "name": "stdout",
     "output_type": "stream",
     "text": [
      "PhysicsInformedNN(\n",
      "  (input_layer): Linear(in_features=2, out_features=20, bias=True)\n",
      "  (hidden_layers): ModuleList(\n",
      "    (0): Linear(in_features=20, out_features=20, bias=True)\n",
      "    (1): Linear(in_features=20, out_features=20, bias=True)\n",
      "    (2): Linear(in_features=20, out_features=20, bias=True)\n",
      "    (3): Linear(in_features=20, out_features=20, bias=True)\n",
      "    (4): Linear(in_features=20, out_features=20, bias=True)\n",
      "    (5): Linear(in_features=20, out_features=20, bias=True)\n",
      "    (6): Linear(in_features=20, out_features=20, bias=True)\n",
      "    (7): Linear(in_features=20, out_features=20, bias=True)\n",
      "  )\n",
      "  (ouput_layer): Linear(in_features=20, out_features=1, bias=True)\n",
      ")\n",
      "torch.Size([2]) torch.Size([2, 2])\n",
      "tensor(4.2734, grad_fn=<CopyBackwards>)\n",
      "tensor(11.5721, grad_fn=<CopyBackwards>)\n",
      "tensor(147.6738, grad_fn=<CopyBackwards>) tensor([121.8490, -83.4289], grad_fn=<SelectBackward0>)\n",
      "tensor(334.2044, grad_fn=<CopyBackwards>)\n"
     ]
    },
    {
     "name": "stderr",
     "output_type": "stream",
     "text": [
      "/home/quantumiracle/anaconda3/envs/x/lib/python3.7/site-packages/torch/nn/functional.py:1933: UserWarning: nn.functional.tanh is deprecated. Use torch.tanh instead.\n",
      "  warnings.warn(\"nn.functional.tanh is deprecated. Use torch.tanh instead.\")\n"
     ]
    }
   ],
   "source": [
    "# for heat equation\n",
    "from train_heat import PhysicsInformedNN, load_data\n",
    "from torch.autograd import grad\n",
    "# device = 'cuda:0' if torch.cuda.is_available() else 'cpu'\n",
    "device = 'cpu'\n",
    "collc_xt, collc_z, data_xt, data_z, test_xt, test_z = load_data(device)\n",
    "\n",
    "optim_method = \"adam\"\n",
    "layers = 8\n",
    "nIter = 50000  # original niter is 200000\n",
    "lr = 0.001\n",
    "batch = 10000\n",
    "\n",
    "# Load Model\n",
    "pinn = PhysicsInformedNN(data_xt, data_z, layers, device, optim_method, lr).to(device) \n",
    "print(pinn)\n",
    "path = './model/20220426_1719'\n",
    "load_model(pinn, path, device)\n",
    "\n",
    "# Make prediction with trained model\n",
    "test_xt = test_xt[:2]\n",
    "u_pred, _ = pinn.forward(test_xt)\n",
    "u_pred = u_pred.squeeze()\n",
    "print(u_pred.shape, test_xt.shape)\n",
    "\n",
    "Du = grad(u_pred, test_xt, grad_outputs=torch.ones_like(torch.Tensor(u_pred)), create_graph=True, retain_graph=True)\n",
    "u_x = Du[0][:,0]\n",
    "Du_x = grad(u_x, test_xt, grad_outputs=torch.ones_like(torch.Tensor(u_pred)), create_graph=True, retain_graph=True)\n",
    "u_xx = Du_x[0][:,0]\n",
    "Du_xx = grad(u_xx, test_xt, grad_outputs=torch.ones_like(torch.Tensor(u_pred)), create_graph=True, retain_graph=True)\n",
    "u_xxx = Du_xx[0][:,0]\n",
    "Du_xxx = grad(u_xxx, test_xt, grad_outputs=torch.ones_like(torch.Tensor(u_pred)), create_graph=True, retain_graph=True)\n",
    "u_xxxx = Du_xxx[0][:,0]\n",
    "\n",
    "print(torch.linalg.norm(u_x, 2))\n",
    "print(torch.linalg.norm(u_xx, 2))\n",
    "print(torch.linalg.norm(u_xxx, 2))\n",
    "print(torch.linalg.norm(u_xxxx, 2))\n",
    "    "
   ]
  },
  {
   "cell_type": "code",
   "execution_count": null,
   "metadata": {},
   "outputs": [],
   "source": []
  }
 ],
 "metadata": {
  "interpreter": {
   "hash": "28c6861e59928cb790236f7047915368f37afc12f670e78fd0101a6f825a02b1"
  },
  "kernelspec": {
   "display_name": "Python 3.7.0 64-bit ('x': conda)",
   "name": "python3"
  },
  "language_info": {
   "codemirror_mode": {
    "name": "ipython",
    "version": 3
   },
   "file_extension": ".py",
   "mimetype": "text/x-python",
   "name": "python",
   "nbconvert_exporter": "python",
   "pygments_lexer": "ipython3",
   "version": "3.7.0"
  }
 },
 "nbformat": 4,
 "nbformat_minor": 2
}
